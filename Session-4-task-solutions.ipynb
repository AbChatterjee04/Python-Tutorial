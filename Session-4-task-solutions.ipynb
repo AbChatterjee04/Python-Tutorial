{
 "cells": [
  {
   "cell_type": "markdown",
   "id": "3737dd06",
   "metadata": {},
   "source": [
    "# `Problem 1:` Combine two lists index-wise(columns wise)\n",
    "\n",
    "Write a program to add two lists index-wise. Create a new list that contains the 0th index item from both the list, then the 1st index item, and so on till the last element. any leftover items will get added at the end of the new list.\n",
    "\n",
    "`Given List:`\n",
    "```\n",
    "list1 = [\"M\", \"na\", \"i\", \"Kh\"]\n",
    "list2 = [\"y\", \"me\", \"s\", \"an\"]\n",
    "```\n",
    "\n",
    "`Output:`\n",
    "```\n",
    "[['M','y'], ['na', me'], ['i', 's'], ['Kh', 'an']]\n",
    "```"
   ]
  },
  {
   "cell_type": "code",
   "execution_count": 1,
   "id": "8709d95f",
   "metadata": {},
   "outputs": [
    {
     "name": "stdout",
     "output_type": "stream",
     "text": [
      "[('M', 'y'), ('na', 'me'), ('i', 's'), ('Kh', 'an')]\n"
     ]
    }
   ],
   "source": [
    "# Write code here\n",
    "\n",
    "list1 = [\"M\", \"na\", \"i\", \"Kh\"]\n",
    "list2 = [\"y\", \"me\", \"s\", \"an\"]\n",
    "\n",
    "a = zip(list1,list2)\n",
    "print(list(a))"
   ]
  },
  {
   "cell_type": "code",
   "execution_count": 2,
   "id": "27b51b86",
   "metadata": {},
   "outputs": [
    {
     "data": {
      "text/plain": [
       "[[('M', 'y'), ('na', 'me'), ('i', 's'), ('Kh', 'an')]]"
      ]
     },
     "execution_count": 2,
     "metadata": {},
     "output_type": "execute_result"
    }
   ],
   "source": [
    "# alternative\n",
    "\n",
    "[[(i,j) for (i,j) in zip(list1,list2)]]"
   ]
  },
  {
   "cell_type": "markdown",
   "id": "7d7f2661",
   "metadata": {},
   "source": [
    "# `Problem 2:` Add new item to list after a specified item\n",
    "Write a program to add item 7000 after 6000 in the following Python List\n",
    "```\n",
    "list1 = [10, 20, [300, 400, [5000, 6000], 500], 30, 40]\n",
    "```\n",
    "`Output:`\n",
    "```\n",
    "[10, 20, [300, 400, [5000, 6000, 7000], 500], 30, 40]\n",
    "```"
   ]
  },
  {
   "cell_type": "code",
   "execution_count": 5,
   "id": "b9227a13",
   "metadata": {},
   "outputs": [
    {
     "name": "stdout",
     "output_type": "stream",
     "text": [
      "[10, 20, [300, 400, [5000, 6000, 7000], 500], 30, 40]\n"
     ]
    }
   ],
   "source": [
    "# Write code here\n",
    "\n",
    "list1  = [10, 20, [300, 400, [5000, 6000], 500], 30, 40]\n",
    "list1[2][2].append(7000)\n",
    "\n",
    "print(list1)"
   ]
  },
  {
   "cell_type": "markdown",
   "id": "29488cd2",
   "metadata": {},
   "source": [
    "# `Problem 3:` Update no of items available\n",
    "\n",
    "Suppose you are given a list of candy and another list of same size representing no of items of respective candy. \n",
    "\n",
    "i.e -  \n",
    "```\n",
    "candy_list = ['Jelly Belly','Kit Kat','Double Bubble','Milky Way','Three Musketeers']\n",
    "no_of_items = [10,20,34,74,32]\n",
    "```\n",
    "\n",
    "Write a program to show no. of items of each candy type.\n",
    "\n",
    "`Output:`\n",
    "\n",
    "```\n",
    "Jelly Belly-10\n",
    "Kit Kat-20\n",
    "Double Bubble-34\n",
    "Milky Way-74\n",
    "Three Musketeers-32\n",
    "\n",
    "```"
   ]
  },
  {
   "cell_type": "code",
   "execution_count": 11,
   "id": "7137e91c",
   "metadata": {},
   "outputs": [
    {
     "name": "stdout",
     "output_type": "stream",
     "text": [
      "Jelly Belly - 10\n",
      "Kit Kat - 20\n",
      "Double Bubble - 34\n",
      "Milky Way - 74\n",
      "Three Musketeers - 32\n"
     ]
    }
   ],
   "source": [
    "# Write code here\n",
    "\n",
    "candy_list = ['Jelly Belly','Kit Kat','Double Bubble','Milky Way','Three Musketeers']\n",
    "no_of_items = [10,20,34,74,32]\n",
    "\n",
    "for (i,j) in zip(candy_list,no_of_items):\n",
    "    print(i,'-',j)"
   ]
  },
  {
   "cell_type": "markdown",
   "id": "99194079",
   "metadata": {},
   "source": [
    "# `Problem 4:` Running Sum on list\n",
    "Write a program to print a list after performing running sum on it.\n",
    "\n",
    "i.e:\n",
    "\n",
    "`Input:`\n",
    "```\n",
    "list1 = [1,2,3,4,5,6]\n",
    "```\n",
    "`Output:`\n",
    "```\n",
    "[1,3,6,10,15,21]\n",
    "```"
   ]
  },
  {
   "cell_type": "code",
   "execution_count": 22,
   "id": "c9bbafe7",
   "metadata": {},
   "outputs": [
    {
     "name": "stdout",
     "output_type": "stream",
     "text": [
      "[1, 3, 6, 10, 15, 21]\n"
     ]
    }
   ],
   "source": [
    "# Write code here\n",
    "list1 = [1,2,3,4,5,6]\n",
    "\n",
    "result = []\n",
    "sum = 0\n",
    "\n",
    "for i in list1:\n",
    "    sum = sum + i\n",
    "    result.append(sum)\n",
    "\n",
    "print(result)"
   ]
  },
  {
   "cell_type": "markdown",
   "id": "031bbcdc",
   "metadata": {},
   "source": [
    "# `Problem 5:` You are given a list of integers. You are asked to make a list by running through elements of the list by adding all elements greater and itself.\n",
    "\n",
    "i.e. Say given list is `[2,4,6,10,1]`\n",
    "resultant list will be `[22,20,10,23]`.\n",
    "\n",
    "For 1st element `2` ->> these are greater `(4+6+10)` values and `2` itself so on adding becomes `22`.\n",
    "\n",
    "For 2nd element `4` ->> greater elements are `(6, 10)` and `4` itself, so on adding `20`\n",
    "\n",
    "like wise for all other elememts.\n",
    "\n",
    "`[2,4,6,10,1]`-->`[22,20,16,10,23]`\n",
    "\n",
    "\n"
   ]
  },
  {
   "cell_type": "code",
   "execution_count": 24,
   "id": "b2ff87d0",
   "metadata": {},
   "outputs": [
    {
     "name": "stdout",
     "output_type": "stream",
     "text": [
      "[22, 20, 16, 10, 23]\n"
     ]
    }
   ],
   "source": [
    "# Write code here\n",
    "\n",
    "L = [2,4,6,10,1]\n",
    "result = []\n",
    "\n",
    "for i in L:\n",
    "    sum = 0\n",
    "    for j in L:\n",
    "        if i <= j:\n",
    "            sum = sum + j\n",
    "    result.append(sum)\n",
    "\n",
    "print(result)"
   ]
  },
  {
   "cell_type": "markdown",
   "id": "6736ba77",
   "metadata": {},
   "source": [
    "# `Problem 6:` Find list of common unique items from two list. and show in increasing order\n",
    "\n",
    "`Input`\n",
    "\n",
    "```\n",
    "num1 = [23,45,67,78,89,34]\n",
    "num2 = [34,89,55,56,39,67]\n",
    "```\n",
    "\n",
    "`Output:`\n",
    "```\n",
    "[34, 67, 89]\n",
    "```\n"
   ]
  },
  {
   "cell_type": "code",
   "execution_count": 51,
   "id": "1fca9ab7",
   "metadata": {},
   "outputs": [
    {
     "name": "stdout",
     "output_type": "stream",
     "text": [
      "[34, 67, 89]\n"
     ]
    }
   ],
   "source": [
    "# Write code here\n",
    "\n",
    "num1 = [23,45,67,78,89,34]\n",
    "num2 = [34,89,55,56,39,67]\n",
    "\n",
    "L = []\n",
    "for i in num1:\n",
    "    for j in num2:\n",
    "        if i == j:\n",
    "            L.append(i)\n",
    "L.sort()\n",
    "print(L)           "
   ]
  },
  {
   "cell_type": "markdown",
   "id": "4d5437ad",
   "metadata": {},
   "source": [
    "# `Problem 7:` Sort a list of alphanumeric strings based on product value of numeric character in it. If in any string there is no numeric character take it's product value as 1.\n",
    "\n",
    "`Input:`\n",
    "```\n",
    "['1ac21', '23fg', '456', '098d','1','kls']\n",
    "```\n",
    "\n",
    "`Output:`\n",
    "```\n",
    "['456', '23fg', '1ac21', '1', 'kls', '098d']\n",
    "\n",
    "```"
   ]
  },
  {
   "cell_type": "code",
   "execution_count": 48,
   "id": "5b4b6b5f",
   "metadata": {},
   "outputs": [
    {
     "name": "stdout",
     "output_type": "stream",
     "text": [
      "[2, 6, 120, 0, 1, 1]\n",
      "['456', '23fg', '1ac21', 'kls', '1', '098d']\n"
     ]
    }
   ],
   "source": [
    "# Write code here\n",
    "\n",
    "L = ['1ac21', '23fg', '456', '098d','1','kls']\n",
    "prod_value = []\n",
    "for item in L:\n",
    "    product = 1\n",
    "    for char in item:\n",
    "        if char.isdigit():\n",
    "            product = product * int(char)\n",
    "\n",
    "    prod_value.append(product)\n",
    "\n",
    "print(prod_value)\n",
    "\n",
    "z = [i[1] for i in sorted(list(zip(prod_value,L)),reverse=True)]\n",
    "print(z)\n",
    "    "
   ]
  },
  {
   "cell_type": "markdown",
   "id": "4d50bc1c",
   "metadata": {},
   "source": [
    "# `Problem 8:` Split String of list on a character.\n",
    "\n",
    "**Example :**\n",
    "\n",
    "Input:\n",
    "```bash\n",
    "['CampusX is a channel', 'for data-science', 'aspirants.']\n",
    "```\n",
    "\n",
    "Output:\n",
    "```bash\n",
    "['C', 'mpusX is ', ' ch', 'nnel', 'for d', 't', '-science', '', 'spir', 'nts.']\n",
    "```"
   ]
  },
  {
   "cell_type": "code",
   "execution_count": 64,
   "id": "34b9cb45",
   "metadata": {},
   "outputs": [
    {
     "name": "stdout",
     "output_type": "stream",
     "text": [
      "['C', 'mpusX is ', ' ch', 'nnel', 'for d', 't', '-science', '', 'spir', 'nts.']\n"
     ]
    }
   ],
   "source": [
    "# Write code here\n",
    "\n",
    "L = ['CampusX is a channel', 'for data-science', 'aspirants.']\n",
    "result = []\n",
    "inp = 'a'\n",
    "for i in L:\n",
    "    result.extend(i.split(inp))\n",
    "print(result)"
   ]
  },
  {
   "cell_type": "markdown",
   "id": "e0d8bab5",
   "metadata": {},
   "source": [
    "# `Problem 9:` Convert Character Matrix to single String using string comprehension.\n",
    "\n",
    "**Example 1:** \n",
    "\n",
    "Input:\n",
    "```bash\n",
    "[['c', 'a', 'm', 'p', 'u', 'x'], ['i', 's'], ['b', 'e', 's', 't'], ['c', 'h', 'a', 'n', 'n', 'e', 'l']]\n",
    "```\n",
    "\n",
    "Output:\n",
    "```bash\n",
    "campux is best channel\n",
    "```"
   ]
  },
  {
   "cell_type": "code",
   "execution_count": 82,
   "id": "5b3ab4b1",
   "metadata": {},
   "outputs": [
    {
     "name": "stdout",
     "output_type": "stream",
     "text": [
      "campux is best channel\n"
     ]
    }
   ],
   "source": [
    "L = [['c', 'a', 'm', 'p', 'u', 'x'], ['i', 's'], ['b', 'e', 's', 't'], ['c', 'h', 'a', 'n', 'n', 'e', 'l']]\n",
    "\n",
    "print(' '.join(list(''.join(i) for i in L)))"
   ]
  },
  {
   "cell_type": "markdown",
   "id": "90ef4c12",
   "metadata": {},
   "source": [
    "# `Problem 10:` Add Space between Potential Words.\n",
    "\n",
    "**Example:**\n",
    "\n",
    "Input:\n",
    "\n",
    "```bash\n",
    "['campusxIs', 'bestFor', 'dataScientist']\n",
    "```\n",
    "\n",
    "Output:\n",
    "```bash\n",
    "['campusx Is', 'best For', 'data Scientist']\n",
    "```"
   ]
  },
  {
   "cell_type": "code",
   "execution_count": 86,
   "id": "19002741",
   "metadata": {},
   "outputs": [
    {
     "name": "stdout",
     "output_type": "stream",
     "text": [
      "['campusx Is', 'best For', 'data Scientist']\n"
     ]
    }
   ],
   "source": [
    "# Code here\n",
    "# initializing list\n",
    "\n",
    "test_list = [\"campusxIs\", \"bestFor\", \"dataScientist\"]\n",
    " \n",
    "res = []\n",
    "\n",
    "for i in test_list:\n",
    "    temp = [[]]\n",
    "    for char in i:\n",
    "        \n",
    "        if char.isupper():\n",
    "            temp.append([])\n",
    "        \n",
    "        temp[-1].append(char)\n",
    "    \n",
    "    temp_string = \"\"\n",
    "    for item in temp:\n",
    "        temp_string = temp_string + \"\".join(item) + \" \"\n",
    "    res.append(temp_string[0:-1])\n",
    "\n",
    "print(res)"
   ]
  },
  {
   "cell_type": "markdown",
   "id": "270d085e",
   "metadata": {},
   "source": [
    "# `Problem 11:` Write a program that can perform union operation on 2 lists\n",
    "\n",
    "**Example:**\n",
    "\n",
    "Input:\n",
    "\n",
    "```bash\n",
    "[1,2,3,4,5,1]\n",
    "[2,3,5,7,8]\n",
    "```\n",
    "\n",
    "Output:\n",
    "```bash\n",
    "[1,2,3,4,5,7,8]\n",
    "```"
   ]
  },
  {
   "cell_type": "code",
   "execution_count": 94,
   "id": "6f4a9b24",
   "metadata": {},
   "outputs": [
    {
     "name": "stdout",
     "output_type": "stream",
     "text": [
      "[1, 2, 3, 4, 5, 7, 8]\n"
     ]
    }
   ],
   "source": [
    "# Write code here\n",
    "L1 = [1,2,3,4,5,1]\n",
    "L2 = [2,3,5,7,8]\n",
    "\n",
    "union = []\n",
    "\n",
    "for i in L1:\n",
    "    if i not in union:\n",
    "        union.append(i)\n",
    "\n",
    "for j in L2:\n",
    "    if j not in union:\n",
    "        union.append(j)\n",
    "\n",
    "print(union)"
   ]
  },
  {
   "cell_type": "markdown",
   "id": "0d24450a",
   "metadata": {},
   "source": [
    "# `Problem 12:` Write a program that can find the max number of each row of a matrix\n",
    "\n",
    "**Example:**\n",
    "\n",
    "Input:\n",
    "\n",
    "```bash\n",
    "[[1,2,3],[4,5,6],[7,8,9]]\n",
    "```\n",
    "\n",
    "Output:\n",
    "```bash\n",
    "[3,6,9]\n",
    "```"
   ]
  },
  {
   "cell_type": "code",
   "execution_count": 102,
   "id": "fc2ef227",
   "metadata": {},
   "outputs": [
    {
     "name": "stdout",
     "output_type": "stream",
     "text": [
      "[3, 6, 9]\n"
     ]
    }
   ],
   "source": [
    "# Write code here\n",
    "L = [[1,2,3],[4,5,6],[7,8,9]]\n",
    "result = []\n",
    "\n",
    "for i in L:\n",
    "    result.append(max(i))\n",
    "print(result)"
   ]
  },
  {
   "cell_type": "markdown",
   "id": "1d77ba9d",
   "metadata": {},
   "source": [
    "# `Problem 13:` Write a list comprehension to print the following matrix\n",
    "\n",
    "[[0, 1, 2], [3, 4, 5], [6, 7, 8]]"
   ]
  },
  {
   "cell_type": "code",
   "execution_count": 111,
   "id": "d8c8b063",
   "metadata": {},
   "outputs": [
    {
     "data": {
      "text/plain": [
       "[[0, 1, 2], [3, 4, 5], [6, 7, 8]]"
      ]
     },
     "execution_count": 111,
     "metadata": {},
     "output_type": "execute_result"
    }
   ],
   "source": [
    "[[j + 3*i for j in range(0,3)] for i in range(0,3)]"
   ]
  },
  {
   "cell_type": "markdown",
   "id": "c50efc44",
   "metadata": {},
   "source": [
    "# `Problem 14:` Write a list comprehension that can transpose a given matrix\n",
    "\n",
    "matrix = [<br>\n",
    "  [1,2,3],<br>\n",
    "          [4,5,6],<br>\n",
    "          [7,8,9]<br>]<br>\n",
    "\n",
    "[1, 4, 7]<br>\n",
    "[2, 5, 8]<br>\n",
    "[3, 6, 9]<br>"
   ]
  },
  {
   "cell_type": "code",
   "execution_count": 114,
   "id": "cc1b2133",
   "metadata": {},
   "outputs": [
    {
     "data": {
      "text/plain": [
       "[[1, 4, 7], [2, 5, 8], [3, 6, 9]]"
      ]
     },
     "execution_count": 114,
     "metadata": {},
     "output_type": "execute_result"
    }
   ],
   "source": [
    "# Write code here\n",
    "matrix = [\n",
    "[1,2,3],\n",
    "[4,5,6],\n",
    "[7,8,9]\n",
    "]\n",
    "\n",
    "[[row[i] for row in matrix]for i in range(len(matrix))]"
   ]
  },
  {
   "cell_type": "markdown",
   "id": "2e9f1dd4",
   "metadata": {},
   "source": [
    "# `Problem 15:` Write a list comprehension that can flatten a nested list\n",
    "\n",
    "Input<br>\n",
    "matrix = [<br>\n",
    "  [1,2,3],<br>\n",
    "          [4,5,6],<br>\n",
    "          [7,8,9]<br>]<br>\n",
    "\n",
    "Output:<br>\n",
    "[1, 2, 3, 4, 5, 6, 7, 8, 9]"
   ]
  },
  {
   "cell_type": "code",
   "execution_count": 115,
   "id": "30f0c290",
   "metadata": {},
   "outputs": [
    {
     "data": {
      "text/plain": [
       "[1, 2, 3, 4, 5, 6, 7, 8, 9]"
      ]
     },
     "execution_count": 115,
     "metadata": {},
     "output_type": "execute_result"
    }
   ],
   "source": [
    "# Write code here\n",
    "matrix = [\n",
    "[1,2,3],\n",
    "[4,5,6],\n",
    "[7,8,9]\n",
    "]\n",
    "\n",
    "\n",
    "[item for row in matrix for item in row]"
   ]
  }
 ],
 "metadata": {
  "kernelspec": {
   "display_name": "Python 3 (ipykernel)",
   "language": "python",
   "name": "python3"
  },
  "language_info": {
   "codemirror_mode": {
    "name": "ipython",
    "version": 3
   },
   "file_extension": ".py",
   "mimetype": "text/x-python",
   "name": "python",
   "nbconvert_exporter": "python",
   "pygments_lexer": "ipython3",
   "version": "3.9.16"
  }
 },
 "nbformat": 4,
 "nbformat_minor": 5
}
