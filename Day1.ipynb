{
 "cells": [
  {
   "cell_type": "code",
   "execution_count": null,
   "id": "15388379",
   "metadata": {},
   "outputs": [],
   "source": [
    "Why python ?\n",
    "\n",
    "1.Design Philosophy [easy to use]\n",
    "\n",
    "2.Batteries Included [Built in data types func and operators] \n",
    "\n",
    "3.General Purpose [its support a lot of paradigm- oop,softdev etc]\n",
    "\n",
    "4.Labraries/Community"
   ]
  },
  {
   "cell_type": "markdown",
   "id": "55970a8b",
   "metadata": {},
   "source": [
    "# 1. Python Output"
   ]
  },
  {
   "cell_type": "code",
   "execution_count": 8,
   "id": "2ff9ec81",
   "metadata": {},
   "outputs": [
    {
     "name": "stdout",
     "output_type": "stream",
     "text": [
      "Hello World\n"
     ]
    }
   ],
   "source": [
    "# Python is a case sensitive language\n",
    "print('Hello World')"
   ]
  },
  {
   "cell_type": "code",
   "execution_count": 9,
   "id": "a86ca2f3",
   "metadata": {},
   "outputs": [
    {
     "name": "stdout",
     "output_type": "stream",
     "text": [
      "Hello 1 4.5 True\n"
     ]
    }
   ],
   "source": [
    "print('Hello',1,4.5,True)"
   ]
  },
  {
   "cell_type": "code",
   "execution_count": 10,
   "id": "421ba0bc",
   "metadata": {},
   "outputs": [
    {
     "name": "stdout",
     "output_type": "stream",
     "text": [
      "Hello/1/4.5/True\n"
     ]
    }
   ],
   "source": [
    "print('Hello',1,4.5,True,sep='/')  # sep='' in default provide space between items we change it to /"
   ]
  },
  {
   "cell_type": "code",
   "execution_count": 11,
   "id": "4924b6db",
   "metadata": {},
   "outputs": [
    {
     "name": "stdout",
     "output_type": "stream",
     "text": [
      "Hello\n",
      "world\n"
     ]
    }
   ],
   "source": [
    "print('Hello')\n",
    "print('world')"
   ]
  },
  {
   "cell_type": "code",
   "execution_count": 12,
   "id": "acb99bb4",
   "metadata": {},
   "outputs": [
    {
     "name": "stdout",
     "output_type": "stream",
     "text": [
      "Hello-world\n"
     ]
    }
   ],
   "source": [
    "print('Hello',end='-')  # end='\\n' default we change it so now line is not changing\n",
    "print('world')"
   ]
  },
  {
   "cell_type": "markdown",
   "id": "c1b57ec9",
   "metadata": {},
   "source": [
    "# 2. Data Types"
   ]
  },
  {
   "cell_type": "code",
   "execution_count": 13,
   "id": "ec9df049",
   "metadata": {},
   "outputs": [
    {
     "name": "stdout",
     "output_type": "stream",
     "text": [
      "8\n",
      "inf\n"
     ]
    }
   ],
   "source": [
    "# Integer\n",
    "print(8)\n",
    "# 1*10^308\n",
    "print(1e309) # python can handle upto 1e308 then it's declear infinite"
   ]
  },
  {
   "cell_type": "code",
   "execution_count": 14,
   "id": "ee15f94f",
   "metadata": {},
   "outputs": [
    {
     "name": "stdout",
     "output_type": "stream",
     "text": [
      "8.55\n",
      "inf\n"
     ]
    }
   ],
   "source": [
    "# Decimal/Float\n",
    "print(8.55)\n",
    "print(1.7e309) # python can handle upto 1.7e308 then it's declear infinite"
   ]
  },
  {
   "cell_type": "code",
   "execution_count": 15,
   "id": "9629c1f9",
   "metadata": {},
   "outputs": [
    {
     "name": "stdout",
     "output_type": "stream",
     "text": [
      "True\n",
      "False\n"
     ]
    }
   ],
   "source": [
    "# Boolean\n",
    "print(True)\n",
    "print(False)"
   ]
  },
  {
   "cell_type": "code",
   "execution_count": 16,
   "id": "b356cc10",
   "metadata": {},
   "outputs": [
    {
     "name": "stdout",
     "output_type": "stream",
     "text": [
      "Hello World\n"
     ]
    }
   ],
   "source": [
    "# Text/String\n",
    "print('Hello World')"
   ]
  },
  {
   "cell_type": "code",
   "execution_count": 17,
   "id": "7a157369",
   "metadata": {},
   "outputs": [
    {
     "name": "stdout",
     "output_type": "stream",
     "text": [
      "(5+6j)\n"
     ]
    }
   ],
   "source": [
    "# complex\n",
    "print(5+6j)  # real + img"
   ]
  },
  {
   "cell_type": "code",
   "execution_count": 18,
   "id": "4c523dce",
   "metadata": {},
   "outputs": [
    {
     "name": "stdout",
     "output_type": "stream",
     "text": [
      "[1, 2, 3, 4, 5]\n"
     ]
    }
   ],
   "source": [
    "# List-> C-> Array\n",
    "print([1,2,3,4,5])"
   ]
  },
  {
   "cell_type": "code",
   "execution_count": 19,
   "id": "5ea37e7d",
   "metadata": {},
   "outputs": [
    {
     "name": "stdout",
     "output_type": "stream",
     "text": [
      "(1, 2, 3, 4, 5)\n"
     ]
    }
   ],
   "source": [
    "# Tuple\n",
    "print((1,2,3,4,5))"
   ]
  },
  {
   "cell_type": "code",
   "execution_count": 20,
   "id": "7cfe6892",
   "metadata": {},
   "outputs": [
    {
     "name": "stdout",
     "output_type": "stream",
     "text": [
      "{1, 2, 3, 4, 5}\n"
     ]
    }
   ],
   "source": [
    "# Sets\n",
    "print({1,2,3,4,5})"
   ]
  },
  {
   "cell_type": "code",
   "execution_count": 21,
   "id": "f31bd534",
   "metadata": {},
   "outputs": [
    {
     "name": "stdout",
     "output_type": "stream",
     "text": [
      "{'name': 'Nitish', 'gender': 'Male', 'weight': 70}\n"
     ]
    }
   ],
   "source": [
    "# Dictionary\n",
    "print({'name':'Nitish','gender':'Male','weight':70})"
   ]
  },
  {
   "cell_type": "code",
   "execution_count": 22,
   "id": "9b710396",
   "metadata": {},
   "outputs": [
    {
     "data": {
      "text/plain": [
       "list"
      ]
     },
     "execution_count": 22,
     "metadata": {},
     "output_type": "execute_result"
    }
   ],
   "source": [
    "# type                # useful func\n",
    "type([1,2,3])"
   ]
  },
  {
   "cell_type": "markdown",
   "id": "3a0bc446",
   "metadata": {},
   "source": [
    "# # 3. Variables"
   ]
  },
  {
   "cell_type": "code",
   "execution_count": null,
   "id": "87757be6",
   "metadata": {},
   "outputs": [],
   "source": [
    "# Static Vs Dynamic Typing\n",
    "# Static Vs Dynamic Binding\n",
    "# stylish declaration techniques"
   ]
  },
  {
   "cell_type": "code",
   "execution_count": 1,
   "id": "b5aed4bf",
   "metadata": {},
   "outputs": [
    {
     "name": "stdout",
     "output_type": "stream",
     "text": [
      "nitish\n",
      "11\n"
     ]
    }
   ],
   "source": [
    "# creating var\n",
    "name = 'nitish'\n",
    "print(name)\n",
    "\n",
    "a = 5\n",
    "b = 6\n",
    "\n",
    "print(a + b)"
   ]
  },
  {
   "cell_type": "code",
   "execution_count": null,
   "id": "d113dede",
   "metadata": {},
   "outputs": [],
   "source": [
    "'''\n",
    "Dynamic Typing :\n",
    "During variable creation in other lang we have to declear \n",
    "bt in python we do it directly we don't need to declear int/float/str before python interpreter knows it\n",
    "by seeing our input\n",
    "'''\n",
    "a = 5   \n",
    "\n",
    "'''\n",
    "Static Typing : \n",
    "It's is common in C/java/c++ langs where we have to declear data type while creating variable\n",
    "'''\n",
    "int a = 5"
   ]
  },
  {
   "cell_type": "code",
   "execution_count": null,
   "id": "c67953d6",
   "metadata": {},
   "outputs": [],
   "source": [
    "# Dynamic Binding : we create variable in python it's not fix we can change it into int/str/float anything.\n",
    "a = 5\n",
    "print(a)\n",
    "a = 'nitish'\n",
    "print(a)\n",
    "\n",
    "# Static Binding : if we declear a as int we can't change a's data type in the whole program\n",
    "int a = 5"
   ]
  },
  {
   "cell_type": "code",
   "execution_count": 3,
   "id": "df090351",
   "metadata": {},
   "outputs": [
    {
     "name": "stdout",
     "output_type": "stream",
     "text": [
      "1 2 3\n",
      "1 2 3\n"
     ]
    }
   ],
   "source": [
    "\n",
    "a = 1\n",
    "b = 2\n",
    "c = 3\n",
    "print(a,b,c)\n",
    "\n",
    "# we can also declear variable\n",
    "\n",
    "a,b,c = 1,2,3\n",
    "print(a,b,c)"
   ]
  },
  {
   "cell_type": "code",
   "execution_count": 4,
   "id": "cb39979e",
   "metadata": {},
   "outputs": [
    {
     "name": "stdout",
     "output_type": "stream",
     "text": [
      "5 5 5\n"
     ]
    }
   ],
   "source": [
    "a=b=c= 5\n",
    "print(a,b,c)"
   ]
  },
  {
   "cell_type": "markdown",
   "id": "cbf52fda",
   "metadata": {},
   "source": [
    "# Comments"
   ]
  },
  {
   "cell_type": "code",
   "execution_count": 5,
   "id": "de649ba4",
   "metadata": {},
   "outputs": [
    {
     "name": "stdout",
     "output_type": "stream",
     "text": [
      "10\n"
     ]
    }
   ],
   "source": [
    "# this is a comment\n",
    "# second line\n",
    "a = 4\n",
    "b = 6 # like this\n",
    "# second comment\n",
    "print(a+b)"
   ]
  },
  {
   "cell_type": "markdown",
   "id": "79b83253",
   "metadata": {},
   "source": [
    "# 4. Keywords & Identifiers"
   ]
  },
  {
   "cell_type": "code",
   "execution_count": null,
   "id": "0eed9c27",
   "metadata": {},
   "outputs": [],
   "source": [
    "'''\n",
    "Compilation : is the process the computer takes to convert a high-level programming language into a machine language \n",
    "that the computer can understand. The software which performs this conversion is called a compiler/interpreter.\n",
    "'''\n",
    "# Compiler : compiles the whole code c/c++/java\n",
    "\n",
    "# interpreter : compiles line by line python/php\n",
    "\n",
    "# Keywords : compiler/interpreter need help to understand high-level(english) code to convert in in  machine language(1 0)format\n",
    "# that's where keywords helps our copiler they reserved those words to understand the program there is 32 keywords in python.\n",
    "\n",
    "### Don't use those keywords as variable  \n"
   ]
  },
  {
   "cell_type": "code",
   "execution_count": null,
   "id": "d34fe010",
   "metadata": {},
   "outputs": [],
   "source": [
    "# Identifiers : name of varaiables and rules\n",
    "# You can't start with a digit\n",
    "name1 = 'Nitish'\n",
    "print(name1)\n",
    "# You can use special chars -> _\n",
    "_ = 'ntiish'\n",
    "print(_)\n",
    "# identiers can not be keyword"
   ]
  },
  {
   "cell_type": "markdown",
   "id": "e2104fcf",
   "metadata": {},
   "source": [
    "# 5. User Input"
   ]
  },
  {
   "cell_type": "code",
   "execution_count": 6,
   "id": "e64eee60",
   "metadata": {},
   "outputs": [
    {
     "name": "stdout",
     "output_type": "stream",
     "text": [
      "Enter Email: example@gmail.com\n"
     ]
    },
    {
     "data": {
      "text/plain": [
       "'example@gmail.com'"
      ]
     },
     "execution_count": 6,
     "metadata": {},
     "output_type": "execute_result"
    }
   ],
   "source": [
    "# Static Vs Dynamic\n",
    "# Static softweres don't interact with user it's only there to provide information don't take inputs from user /clock/calender etc\n",
    "# Dynamic softweres where user interacts and it's accept inputs zomato/youtube\n",
    "\n",
    "# Taking user input by using input() func\n",
    "input('Enter Email: ')"
   ]
  },
  {
   "cell_type": "code",
   "execution_count": 10,
   "id": "83afc271",
   "metadata": {},
   "outputs": [
    {
     "name": "stdout",
     "output_type": "stream",
     "text": [
      "enter first number56\n",
      "enter second number67\n",
      "123\n",
      "<class 'int'>\n"
     ]
    }
   ],
   "source": [
    "# take input from users and store them in a variable\n",
    "fnum = int(input('enter first number'))   # str is an universal format we can always store other data type in string ->int/complex/float all       \n",
    "snum = int(input('enter second number'))  # input func return string coz string is universal data format. so we have to do type casting here\n",
    "#print(type(fnum),type(snum))\n",
    "# add the 2 variables\n",
    "result = fnum + snum\n",
    "# print the result\n",
    "print(result)\n",
    "print(type(fnum))"
   ]
  },
  {
   "cell_type": "markdown",
   "id": "27a2e554",
   "metadata": {},
   "source": [
    "# 6. Type Conversion"
   ]
  },
  {
   "cell_type": "code",
   "execution_count": 9,
   "id": "93579196",
   "metadata": {},
   "outputs": [
    {
     "name": "stdout",
     "output_type": "stream",
     "text": [
      "10.6\n",
      "<class 'int'> <class 'float'>\n",
      "8\n"
     ]
    },
    {
     "data": {
      "text/plain": [
       "4.0"
      ]
     },
     "execution_count": 9,
     "metadata": {},
     "output_type": "execute_result"
    }
   ],
   "source": [
    "# Implicit Vs Explicit\n",
    "\n",
    "# Implisit : Where intrepreter do it internally programmer do nothing\n",
    "print(5+5.6)\n",
    "print(type(5),type(5.6)) # implicit interpreter handle it int + float\n",
    "\n",
    "# Explicit\n",
    "# print(4 + '4') # here int + str won't work interpreter won't allow\n",
    "\n",
    "# str -> int\n",
    "print(4+int('4')) # programmer have to handle it hence # Explicit\n",
    "\n",
    "\n",
    "# but remember complex number won't convert to int\n",
    "# int(4+5j)  # will throw error\n",
    "\n",
    "# int to str\n",
    "str(5)\n",
    "\n",
    "# float\n",
    "float(4)"
   ]
  },
  {
   "cell_type": "markdown",
   "id": "14a5fc04",
   "metadata": {},
   "source": [
    "# 7. Literals"
   ]
  },
  {
   "cell_type": "code",
   "execution_count": 11,
   "id": "139b0718",
   "metadata": {},
   "outputs": [
    {
     "name": "stdout",
     "output_type": "stream",
     "text": [
      "10 100 200 300\n",
      "10.5 150.0 0.0015\n",
      "3.14j 3.14 0.0\n"
     ]
    }
   ],
   "source": [
    "# The raw value we put inside a variable is called Literals\n",
    "\n",
    "a = 0b1010 #Binary Literals\n",
    "b = 100 #Decimal Literal \n",
    "c = 0o310 #Octal Literal\n",
    "d = 0x12c #Hexadecimal Literal\n",
    "\n",
    "#Float Literal\n",
    "float_1 = 10.5 \n",
    "float_2 = 1.5e2 # 1.5 * 10^2\n",
    "float_3 = 1.5e-3 # 1.5 * 10^-3\n",
    "\n",
    "#Complex Literal \n",
    "x = 3.14j\n",
    "\n",
    "print(a, b, c, d)\n",
    "print(float_1, float_2,float_3)\n",
    "print(x, x.imag, x.real)"
   ]
  },
  {
   "cell_type": "code",
   "execution_count": 13,
   "id": "3911bee0",
   "metadata": {},
   "outputs": [
    {
     "name": "stdout",
     "output_type": "stream",
     "text": [
      "This is Python\n",
      "This is Python\n",
      "C\n",
      "This is a multiline string with more than one line code.\n",
      "😀😆🤣\n",
      "raw \\n string\n"
     ]
    }
   ],
   "source": [
    "string = 'This is Python'\n",
    "strings = \"This is Python\"\n",
    "char = \"C\"\n",
    "multiline_str = \"\"\"This is a multiline string with more than one line code.\"\"\"\n",
    "unicode = u\"\\U0001f600\\U0001F606\\U0001F923\"\n",
    "raw_str = r\"raw \\n string\"\n",
    "\n",
    "print(string)\n",
    "print(strings)\n",
    "print(char)\n",
    "print(multiline_str)\n",
    "print(unicode)\n",
    "print(raw_str)"
   ]
  },
  {
   "cell_type": "code",
   "execution_count": 14,
   "id": "964a23e5",
   "metadata": {},
   "outputs": [
    {
     "name": "stdout",
     "output_type": "stream",
     "text": [
      "a: 5\n",
      "b: 10\n"
     ]
    }
   ],
   "source": [
    "# python treat boolean as number in a mathematical expression\n",
    "a = True + 4    # True = 1 \n",
    "b = False + 10   # Flase = 0\n",
    "\n",
    "print(\"a:\", a)\n",
    "print(\"b:\", b)"
   ]
  },
  {
   "cell_type": "code",
   "execution_count": 15,
   "id": "feb22d4a",
   "metadata": {},
   "outputs": [
    {
     "name": "stdout",
     "output_type": "stream",
     "text": [
      "Program exe\n"
     ]
    }
   ],
   "source": [
    "# None : we can't declear variable in puthon\n",
    "\n",
    "k = None           # None set to say i want k in future don't know the value now : we use for variable declearation\n",
    "a = 5\n",
    "b = 6\n",
    "print('Program exe')"
   ]
  },
  {
   "cell_type": "code",
   "execution_count": null,
   "id": "f5ab0563",
   "metadata": {},
   "outputs": [],
   "source": []
  }
 ],
 "metadata": {
  "kernelspec": {
   "display_name": "Python 3 (ipykernel)",
   "language": "python",
   "name": "python3"
  },
  "language_info": {
   "codemirror_mode": {
    "name": "ipython",
    "version": 3
   },
   "file_extension": ".py",
   "mimetype": "text/x-python",
   "name": "python",
   "nbconvert_exporter": "python",
   "pygments_lexer": "ipython3",
   "version": "3.9.16"
  }
 },
 "nbformat": 4,
 "nbformat_minor": 5
}
