{
 "cells": [
  {
   "cell_type": "markdown",
   "id": "6c721c17",
   "metadata": {},
   "source": [
    "# Task : Session 1"
   ]
  },
  {
   "cell_type": "markdown",
   "id": "8407f465",
   "metadata": {},
   "source": [
    "### Q1 :- Print the given strings as per stated format.\n",
    "\n",
    "**Given strings**: \n",
    "```\n",
    "\"Learn\" \"Python\" \"programming\"  \n",
    "\"solving\" \"exercices\"\n",
    "```\n",
    "**Output**: \n",
    "``` \n",
    "Learn-python-programming-with-solving-exercices\n",
    "```\n",
    "\n",
    "Concept- [Seperator and End]"
   ]
  },
  {
   "cell_type": "code",
   "execution_count": 15,
   "id": "0c09c217",
   "metadata": {},
   "outputs": [
    {
     "name": "stdout",
     "output_type": "stream",
     "text": [
      "Learn-Python-programming-with-solving-exercices\n"
     ]
    }
   ],
   "source": [
    "# Write your code here\n",
    "print(\"Learn\",\"Python\",\"programming\" ,sep='-',end='-with-')\n",
    "print(\"solving\",\"exercices\",sep='-')"
   ]
  },
  {
   "cell_type": "markdown",
   "id": "cb4d5041",
   "metadata": {},
   "source": [
    "# Q2:- Write a program that will convert celsius value to fahrenheit."
   ]
  },
  {
   "cell_type": "code",
   "execution_count": 14,
   "id": "6f55ac01",
   "metadata": {},
   "outputs": [
    {
     "name": "stdout",
     "output_type": "stream",
     "text": [
      "enter the temp in celcius: 43\n",
      "109.4 F\n"
     ]
    }
   ],
   "source": [
    "# Write your code here\n",
    "\n",
    "celcius = float(input('enter the temp in celcius: '))\n",
    "\n",
    "faren = celcius * (9/5) + 32\n",
    "\n",
    "print(faren,'F')"
   ]
  },
  {
   "cell_type": "markdown",
   "id": "8214fadd",
   "metadata": {},
   "source": [
    "# Q3:- Take 2 numbers as input from the user.Write a program to swap the numbers without using any special python syntax."
   ]
  },
  {
   "cell_type": "code",
   "execution_count": 17,
   "id": "098131de",
   "metadata": {},
   "outputs": [
    {
     "name": "stdout",
     "output_type": "stream",
     "text": [
      "Enter num1: 2\n",
      "Enter num2: 4\n",
      "4\n",
      "2\n"
     ]
    }
   ],
   "source": [
    "# Write your code here\n",
    "\n",
    "a = int(input('Enter num1: '))\n",
    "b = int(input('Enter num2: '))\n",
    "\n",
    "temp = a\n",
    "a = b\n",
    "b = temp\n",
    "print(a)\n",
    "print(b)\n"
   ]
  },
  {
   "cell_type": "markdown",
   "id": "8c1656b2",
   "metadata": {},
   "source": [
    "# Q4:- Write a program to find the euclidean distance between two coordinates.Take both the coordinates from the user as input."
   ]
  },
  {
   "cell_type": "code",
   "execution_count": 18,
   "id": "e6710696",
   "metadata": {},
   "outputs": [
    {
     "name": "stdout",
     "output_type": "stream",
     "text": [
      "enter x cood of 1st point: 0\n",
      "enter y cood of 1st point: 0\n",
      "enter x cood of 2nd point: 2\n",
      "enter y cood of 2nd point: 2\n",
      "2.83\n"
     ]
    }
   ],
   "source": [
    "# Write your code here\n",
    "\n",
    "# Write your code here\n",
    "p1x = int(input('enter x cood of 1st point: '))\n",
    "p1y = int(input('enter y cood of 1st point: '))\n",
    "p2x = int(input('enter x cood of 2nd point: '))\n",
    "p2y = int(input('enter y cood of 2nd point: '))\n",
    "\n",
    "distance = ((p2x - p1x)**2 + (p2y - p1y)**2)**0.5\n",
    "\n",
    "print(round(distance,2))  # round function will give round fig bt since we asked 2 digit after point "
   ]
  },
  {
   "cell_type": "markdown",
   "id": "e0dd6aff",
   "metadata": {},
   "source": [
    "# Q5:- Write a program to find the simple interest when the value of principle,rate of interest and time period is provided by the user.\n",
    "\n",
    "Hint - si = (p * t * r)/100"
   ]
  },
  {
   "cell_type": "code",
   "execution_count": 19,
   "id": "7c9437ae",
   "metadata": {},
   "outputs": [
    {
     "name": "stdout",
     "output_type": "stream",
     "text": [
      "Enter amount: 10000\n",
      "Enter time period: 2\n",
      "Enter rate: 5\n",
      "the interest is 1000.0\n"
     ]
    }
   ],
   "source": [
    "# Write your code here\n",
    "p = int(input('Enter amount: '))\n",
    "t = int(input('Enter time period: '))\n",
    "r = float(input('Enter rate: '))\n",
    "\n",
    "interest = (p*t*r)/100\n",
    "\n",
    "print('the interest is', interest)"
   ]
  },
  {
   "cell_type": "markdown",
   "id": "b99c0547",
   "metadata": {},
   "source": [
    "# Q6:- Write a program that will tell the number of dogs and chicken are there when the user will provide the value of total heads and legs.\n",
    "\n",
    "For example: Input: heads -> 4 legs -> 12\n",
    "Output: dogs -> 2 chicken -> 2"
   ]
  },
  {
   "cell_type": "code",
   "execution_count": 20,
   "id": "030ae253",
   "metadata": {},
   "outputs": [
    {
     "name": "stdout",
     "output_type": "stream",
     "text": [
      "Enter no of heads: 4\n",
      "Enter no of legs: 12\n",
      "no of dogs are 2. no of chicken is 2\n"
     ]
    }
   ],
   "source": [
    "heads = int(input('Enter no of heads: '))\n",
    "legs = int(input('Enter no of legs: '))\n",
    "\n",
    "dogs = int(legs/2) - heads\n",
    "chicken = heads - dogs\n",
    "print(f'no of dogs are {dogs}. no of chicken is {chicken}')"
   ]
  },
  {
   "cell_type": "markdown",
   "id": "d17c0eed",
   "metadata": {},
   "source": [
    "# Q7:- Write a program to find the sum of squares of first n natural numbers where n will be provided by the user.\n",
    "\n",
    "Hint - Thus, the sum of the squares of first n natural numbers = n(n+1)(2n+1)/6"
   ]
  },
  {
   "cell_type": "code",
   "execution_count": 22,
   "id": "d5d52be0",
   "metadata": {},
   "outputs": [
    {
     "name": "stdout",
     "output_type": "stream",
     "text": [
      "Enter num: 5\n",
      "55.0\n"
     ]
    }
   ],
   "source": [
    "n = int(input('Enter num: '))\n",
    "result = (n*(n+1)*(2*n + 1))/6\n",
    "print(result)"
   ]
  },
  {
   "cell_type": "code",
   "execution_count": 23,
   "id": "fbd31c9e",
   "metadata": {},
   "outputs": [
    {
     "name": "stdout",
     "output_type": "stream",
     "text": [
      "Enter num: 5\n",
      "55\n"
     ]
    }
   ],
   "source": [
    "# solving ques 7 with for loop\n",
    "\n",
    "n = int(input('Enter num: '))\n",
    "sum = 0\n",
    "for i in range (1,n+1):\n",
    "    sum += i ** 2\n",
    "print(sum)\n"
   ]
  },
  {
   "cell_type": "markdown",
   "id": "60a812b3",
   "metadata": {},
   "source": [
    "# Q8:- Given the first 2 terms of an Arithmetic Series.Find the Nth term of the series. Assume all inputs are provided by the user.\n",
    "\n",
    "Hint : an = a + (n – 1)d"
   ]
  },
  {
   "cell_type": "code",
   "execution_count": 25,
   "id": "89ea41b9",
   "metadata": {},
   "outputs": [
    {
     "name": "stdout",
     "output_type": "stream",
     "text": [
      "enter 1st term: 3\n",
      "enter 2nd term: 6\n",
      "enter the value of n: 5\n",
      "15\n"
     ]
    }
   ],
   "source": [
    "# Write your code here\n",
    "first_term = int(input('enter 1st term: '))\n",
    "second_term = int(input('enter 2nd term: '))\n",
    "n = int(input('enter the value of n: '))\n",
    "\n",
    "d = second_term - first_term\n",
    "\n",
    "an = first_term + (n-1)*d\n",
    "\n",
    "print(an)"
   ]
  },
  {
   "cell_type": "markdown",
   "id": "c3e7d352",
   "metadata": {},
   "source": [
    "# Q9:- Given 2 fractions, find the sum of those 2 fractions.\n",
    "Take the numerator and denominator values of the fractions from the user."
   ]
  },
  {
   "cell_type": "code",
   "execution_count": 27,
   "id": "1f5984a7",
   "metadata": {},
   "outputs": [
    {
     "name": "stdout",
     "output_type": "stream",
     "text": [
      "num1 : 13\n",
      "den1 : 17\n",
      "num2 : 22\n",
      "den2 : 11\n",
      "517/187\n"
     ]
    }
   ],
   "source": [
    "# Write your code here\n",
    "n1 = int(input('num1 : '))\n",
    "d1 = int(input('den1 : '))\n",
    "n2 = int(input('num2 : '))\n",
    "d2 = int(input('den2 : '))\n",
    "\n",
    "rn = n1*d2 + d1*n2\n",
    "rd = d1*d2\n",
    "\n",
    "print('{}/{}' .format(rn,rd))"
   ]
  },
  {
   "cell_type": "markdown",
   "id": "9a3e7a84",
   "metadata": {},
   "source": [
    "# Q10:- Given the height, width and breadth of a milk tank,\n",
    "you have to find out how many glasses of milk can be obtained?\n",
    "Assume all the inputs are provided by the user.\n",
    "\n",
    "Input:\n",
    "Dimensions of the milk tank\n",
    "H = 20cm, L = 20cm, B = 20cm\n",
    "\n",
    "Dimensions of the glass\n",
    "h = 3cm, r = 1cm"
   ]
  },
  {
   "cell_type": "code",
   "execution_count": 29,
   "id": "c54c4330",
   "metadata": {},
   "outputs": [
    {
     "name": "stdout",
     "output_type": "stream",
     "text": [
      "height: 10\n",
      "breadth: 19\n",
      "length: 10\n",
      "height of glass: 5\n",
      "radius of the glass: 2\n",
      "no of glasses 30\n"
     ]
    }
   ],
   "source": [
    "# Write your code here\n",
    "import math\n",
    "\n",
    "h_t = float(input('height: '))\n",
    "b_t = float(input('breadth: '))\n",
    "l_t = float(input('length: '))\n",
    "\n",
    "h_g = float(input('height of glass: '))\n",
    "r_g = float(input('radius of the glass: '))\n",
    "\n",
    "vol_tank = h_t*b_t*l_t\n",
    "vol_glass = 3.14*r_g*r_g*h_g\n",
    "\n",
    "print('no of glasses',math.floor(vol_tank/vol_glass)) # using math liabrary floor func"
   ]
  }
 ],
 "metadata": {
  "kernelspec": {
   "display_name": "Python 3 (ipykernel)",
   "language": "python",
   "name": "python3"
  },
  "language_info": {
   "codemirror_mode": {
    "name": "ipython",
    "version": 3
   },
   "file_extension": ".py",
   "mimetype": "text/x-python",
   "name": "python",
   "nbconvert_exporter": "python",
   "pygments_lexer": "ipython3",
   "version": "3.9.16"
  }
 },
 "nbformat": 4,
 "nbformat_minor": 5
}
