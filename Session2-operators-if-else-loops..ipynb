{
 "cells": [
  {
   "cell_type": "markdown",
   "id": "e545bc35",
   "metadata": {},
   "source": [
    "# Operators in Python\n",
    "\n",
    "- Arithmetic Operators\n",
    "- Relational Operators\n",
    "- Logical Operators\n",
    "- Bitwise Operators\n",
    "- Assignment Operators\n",
    "- Membership Operators"
   ]
  },
  {
   "cell_type": "code",
   "execution_count": 1,
   "id": "c561722f",
   "metadata": {},
   "outputs": [
    {
     "name": "stdout",
     "output_type": "stream",
     "text": [
      "11\n",
      "-1\n",
      "30\n",
      "2.5\n",
      "2\n",
      "1\n",
      "25\n"
     ]
    }
   ],
   "source": [
    "# Arithmetric Operators\n",
    "print(5+6)\n",
    "\n",
    "print(5-6)\n",
    "\n",
    "print(5*6)\n",
    "\n",
    "print(5/2)\n",
    "\n",
    "print(5//2)\n",
    "\n",
    "print(5%2)\n",
    "\n",
    "print(5**2)"
   ]
  },
  {
   "cell_type": "code",
   "execution_count": 2,
   "id": "19271579",
   "metadata": {},
   "outputs": [
    {
     "name": "stdout",
     "output_type": "stream",
     "text": [
      "False\n",
      "True\n",
      "True\n",
      "True\n",
      "True\n",
      "False\n"
     ]
    }
   ],
   "source": [
    "# Relational Operators\n",
    "print(4>5)\n",
    "\n",
    "print(4<5)\n",
    "\n",
    "print(4>=4)\n",
    "\n",
    "print(4<=4)\n",
    "\n",
    "print(4==4)\n",
    "\n",
    "print(4!=4)"
   ]
  },
  {
   "cell_type": "code",
   "execution_count": 3,
   "id": "c4e67274",
   "metadata": {},
   "outputs": [
    {
     "name": "stdout",
     "output_type": "stream",
     "text": [
      "0\n",
      "1\n",
      "False\n"
     ]
    }
   ],
   "source": [
    "# Logical Operators\n",
    "print(1 and 0)\n",
    "\n",
    "print(1 or 0)\n",
    "\n",
    "print(not 1)"
   ]
  },
  {
   "cell_type": "code",
   "execution_count": 4,
   "id": "bac964c8",
   "metadata": {},
   "outputs": [
    {
     "name": "stdout",
     "output_type": "stream",
     "text": [
      "2\n",
      "3\n",
      "1\n",
      "-4\n",
      "1\n",
      "20\n"
     ]
    }
   ],
   "source": [
    "# Bitwise Operators\n",
    "\n",
    "# bitwise and\n",
    "print(2 & 3)\n",
    "\n",
    "# bitwise or\n",
    "print(2 | 3)\n",
    "\n",
    "# bitwise xor\n",
    "print(2 ^ 3)\n",
    "\n",
    "print(~3)\n",
    "\n",
    "print(4 >> 2)\n",
    "\n",
    "print(5 << 2)"
   ]
  },
  {
   "cell_type": "code",
   "execution_count": null,
   "id": "67502e18",
   "metadata": {},
   "outputs": [],
   "source": [
    "# Assignment Operators\n",
    "\n",
    "# = \n",
    "# a = 2\n",
    "\n",
    "a = 2\n",
    "\n",
    "# a = a % 2\n",
    "a %= 2\n",
    "\n",
    "# a++ ++a\n",
    "\n",
    "print(a)"
   ]
  },
  {
   "cell_type": "code",
   "execution_count": 5,
   "id": "9fc4b060",
   "metadata": {},
   "outputs": [
    {
     "name": "stdout",
     "output_type": "stream",
     "text": [
      "False\n",
      "False\n"
     ]
    }
   ],
   "source": [
    "# Membership Operators\n",
    "\n",
    "# in/not in\n",
    "\n",
    "print('D' not in 'Delhi')\n",
    "\n",
    "print(1 in [2,3,4,5,6])"
   ]
  },
  {
   "cell_type": "code",
   "execution_count": 14,
   "id": "801bb4ce",
   "metadata": {},
   "outputs": [
    {
     "name": "stdout",
     "output_type": "stream",
     "text": [
      "Enter a 3 digit num: 615\n",
      "Sum of your 3 digit input:  12\n"
     ]
    }
   ],
   "source": [
    "# Program - Find the sum of a 3 digit number entered by the user\n",
    "\n",
    "user_input = int(input('Enter a 3 digit num: '))\n",
    "\n",
    "# extracticg last digit\n",
    "last_digit = user_input % 10\n",
    "\n",
    "# extracticg middle digit\n",
    "user_input = user_input // 10\n",
    "\n",
    "middle_digit = user_input % 10\n",
    "\n",
    "# extracticg first digit\n",
    "first_digit = user_input // 10\n",
    "\n",
    "result = (first_digit + middle_digit + last_digit)\n",
    "print('Sum of your 3 digit input: ',result)"
   ]
  },
  {
   "cell_type": "code",
   "execution_count": 10,
   "id": "302c090e",
   "metadata": {},
   "outputs": [
    {
     "data": {
      "text/plain": [
       "1"
      ]
     },
     "execution_count": 10,
     "metadata": {},
     "output_type": "execute_result"
    }
   ],
   "source": [
    "12 //10"
   ]
  },
  {
   "cell_type": "markdown",
   "id": "7e29acb2",
   "metadata": {},
   "source": [
    "# If-else in Python"
   ]
  },
  {
   "cell_type": "code",
   "execution_count": 15,
   "id": "55f69cb9",
   "metadata": {},
   "outputs": [
    {
     "name": "stdout",
     "output_type": "stream",
     "text": [
      "Welcome please provide your sign in credentials\n",
      "\n",
      "Enter email :- abchatterjee04@gmail.com\n",
      "Enter password :- 1235\n",
      "Incorrect Password Try again!\n",
      "Enter password :- 1234\n",
      "Welcome,finally!\n"
     ]
    }
   ],
   "source": [
    "# login program and indentation\n",
    "# email should be abchatterjee04@gmail.com\n",
    "# password -> 1234       -----------------> anything else will be consider as error\n",
    "\n",
    "print('Welcome please provide your sign in credentials')\n",
    "print()\n",
    "email = input('Enter email :- ')\n",
    "password = input('Enter password :- ')\n",
    "\n",
    "if email == 'abchatterjee04@gmail.com' and password == '1234':\n",
    "    print('Welcome')\n",
    "\n",
    "elif email == 'abchatterjee04@gmail.com' and password != '1234':\n",
    "    print(\"Incorrect Password Try again!\")\n",
    "    password = input('Enter password :- ')\n",
    "    \n",
    "    if password == '1234':\n",
    "        print('Welcome,finally!')\n",
    "    \n",
    "    else:\n",
    "        print('Invaild password!')\n",
    "\n",
    "else:\n",
    "    print('Not correct')"
   ]
  },
  {
   "cell_type": "code",
   "execution_count": null,
   "id": "de3b355d",
   "metadata": {},
   "outputs": [],
   "source": [
    "# if-else examples\n",
    "# 1. Find the min of 3 given numbers\n",
    "# 2. Menu Driven calculator\n",
    "# 3. Menu Driven Program"
   ]
  },
  {
   "cell_type": "code",
   "execution_count": 21,
   "id": "4e73af97",
   "metadata": {},
   "outputs": [
    {
     "name": "stdout",
     "output_type": "stream",
     "text": [
      "Enter 1st num: 4\n",
      "Enter 2nd num: 1\n",
      "Enter 3rd num: 0\n",
      "smallest is  0\n"
     ]
    }
   ],
   "source": [
    "# 1. Find the min of 3 given numbers\n",
    "\n",
    "first = int(input('Enter 1st num: '))\n",
    "second = int(input('Enter 2nd num: '))\n",
    "third = int(input('Enter 3rd num: '))\n",
    "\n",
    "if first < second and first < third:\n",
    "    print('smallest is ',first)\n",
    "elif second < third:\n",
    "    print('smallest is ',second)\n",
    "else:\n",
    "    print('smallest is ',third)"
   ]
  },
  {
   "cell_type": "code",
   "execution_count": 8,
   "id": "74f81b25",
   "metadata": {},
   "outputs": [
    {
     "name": "stdout",
     "output_type": "stream",
     "text": [
      "\n",
      "Welcome to calculator:-\n",
      "Chose your operator wisely: \n",
      "\n",
      "Select + for addition\n",
      "Select - for subtraction\n",
      "Select * for multification\n",
      "Select / for division\n",
      "Select ** for power\n",
      "Select % for modulus\n",
      "Select // for int division\n",
      "\n",
      "Enter number: 5\n",
      "Enter number: 2\n",
      "Enter your operation: //\n",
      "5 // 2 = 2\n"
     ]
    }
   ],
   "source": [
    "# 2. Menu Driven calculator\n",
    "\n",
    "print('''\n",
    "Welcome to calculator:-\n",
    "Chose your operator wisely: \n",
    "\n",
    "Select + for addition\n",
    "Select - for subtraction\n",
    "Select * for multification\n",
    "Select / for division\n",
    "Select ** for power\n",
    "Select % for modulus\n",
    "Select // for int division\n",
    "''')\n",
    "\n",
    "\n",
    "fnum = int(input('Enter number: '))\n",
    "snum = int(input('Enter number: '))\n",
    "\n",
    "op = input('Enter your operation: ')\n",
    "\n",
    "if op == '+':\n",
    "    print(f'{fnum} + {snum} = {fnum + snum}')\n",
    "    \n",
    "elif op == '-':\n",
    "    print(f'{fnum} - {snum} = {fnum - snum}')\n",
    "    \n",
    "elif op == '*':\n",
    "    print(f'{fnum} x {snum} = {fnum * snum}')\n",
    "\n",
    "elif op == '/':\n",
    "    print(f'{fnum} / {snum} = {fnum / snum}')\n",
    "\n",
    "elif op == '**':\n",
    "    print(f'{fnum} ** {snum} = {fnum ** snum}')\n",
    "    \n",
    "elif op == '%':\n",
    "    print(f'{fnum} % {snum} = {fnum % snum}')\n",
    "\n",
    "elif op == '//':\n",
    "    print(f'{fnum} // {snum} = {fnum // snum}')\n",
    "\n",
    "else:\n",
    "    print('Invalid input!')\n",
    "    "
   ]
  },
  {
   "cell_type": "code",
   "execution_count": 4,
   "id": "61fcfc83",
   "metadata": {},
   "outputs": [
    {
     "name": "stdout",
     "output_type": "stream",
     "text": [
      "\n",
      "Hi How can i help You ?\n",
      "1. Enter 1 for pin change\n",
      "2. Enter 2 for balance check\n",
      "3. Enter 3 for withdrwawl\n",
      "4. Enter 4 for exit\n",
      "\n",
      "Enter your choice: 2\n",
      "balance\n"
     ]
    }
   ],
   "source": [
    "# 3. Menu Driven Program\n",
    "\n",
    "print('''\n",
    "Hi How can i help You ?\n",
    "1. Enter 1 for pin change\n",
    "2. Enter 2 for balance check\n",
    "3. Enter 3 for withdrwawl\n",
    "4. Enter 4 for exit\n",
    "''')\n",
    "\n",
    "menu = input('Enter your choice: ')\n",
    "\n",
    "if menu == '1':\n",
    "    print('pin Change')\n",
    "\n",
    "elif menu == '2':\n",
    "    print('balance')\n",
    "\n",
    "elif menu == '3':\n",
    "    print('withdrawl')\n",
    "    \n",
    "elif menu == '4':\n",
    "    print('exit')\n",
    "\n",
    "else:\n",
    "    print('Invalid input')\n"
   ]
  },
  {
   "cell_type": "markdown",
   "id": "2652b538",
   "metadata": {},
   "source": [
    "# Modules in Python\n",
    "\n",
    "- math\n",
    "- keywords\n",
    "- random\n",
    "- datetime"
   ]
  },
  {
   "cell_type": "code",
   "execution_count": 11,
   "id": "193e371a",
   "metadata": {},
   "outputs": [
    {
     "data": {
      "text/plain": [
       "14.0"
      ]
     },
     "execution_count": 11,
     "metadata": {},
     "output_type": "execute_result"
    }
   ],
   "source": [
    "# math\n",
    "import math\n",
    "\n",
    "math.sqrt(196)"
   ]
  },
  {
   "cell_type": "code",
   "execution_count": 12,
   "id": "0a14059e",
   "metadata": {},
   "outputs": [
    {
     "data": {
      "text/plain": [
       "120"
      ]
     },
     "execution_count": 12,
     "metadata": {},
     "output_type": "execute_result"
    }
   ],
   "source": [
    "math.factorial(5)"
   ]
  },
  {
   "cell_type": "code",
   "execution_count": 13,
   "id": "3f9dff95",
   "metadata": {},
   "outputs": [
    {
     "data": {
      "text/plain": [
       "6"
      ]
     },
     "execution_count": 13,
     "metadata": {},
     "output_type": "execute_result"
    }
   ],
   "source": [
    "math.floor(6.8)       # gives previous int"
   ]
  },
  {
   "cell_type": "code",
   "execution_count": 6,
   "id": "a98d2b30",
   "metadata": {},
   "outputs": [
    {
     "name": "stdout",
     "output_type": "stream",
     "text": [
      "['False', 'None', 'True', '__peg_parser__', 'and', 'as', 'assert', 'async', 'await', 'break', 'class', 'continue', 'def', 'del', 'elif', 'else', 'except', 'finally', 'for', 'from', 'global', 'if', 'import', 'in', 'is', 'lambda', 'nonlocal', 'not', 'or', 'pass', 'raise', 'return', 'try', 'while', 'with', 'yield']\n"
     ]
    }
   ],
   "source": [
    "# keyword\n",
    "import keyword\n",
    "print(keyword.kwlist)"
   ]
  },
  {
   "cell_type": "code",
   "execution_count": 7,
   "id": "0c1c3d47",
   "metadata": {},
   "outputs": [
    {
     "name": "stdout",
     "output_type": "stream",
     "text": [
      "75\n"
     ]
    }
   ],
   "source": [
    "# random\n",
    "import random\n",
    "print(random.randint(1,100))         # gives random number between range"
   ]
  },
  {
   "cell_type": "code",
   "execution_count": 8,
   "id": "87405d53",
   "metadata": {},
   "outputs": [
    {
     "name": "stdout",
     "output_type": "stream",
     "text": [
      "2024-04-11 04:19:34.540841\n"
     ]
    }
   ],
   "source": [
    "# datetime\n",
    "import datetime\n",
    "print(datetime.datetime.now())"
   ]
  },
  {
   "cell_type": "code",
   "execution_count": 9,
   "id": "9399c12c",
   "metadata": {},
   "outputs": [
    {
     "name": "stdout",
     "output_type": "stream",
     "text": [
      "\n",
      "Please wait a moment while I gather a list of all available modules...\n",
      "\n"
     ]
    },
    {
     "name": "stderr",
     "output_type": "stream",
     "text": [
      "WARNING: AstropyDeprecationWarning: The private astropy._erfa module has been made into its own package, pyerfa, which is a dependency of astropy and can be imported directly using \"import erfa\" [astropy._erfa]\n",
      "scikit-learn version 1.2.2 is not supported. Minimum required version: 0.17. Maximum required version: 1.1.2. Disabling scikit-learn conversion API.\n",
      "Torch version 2.0.1 has not been tested with coremltools. You may run into unexpected errors. Torch 2.0.0 is the most recent version that has been tested.\n",
      "C:\\Users\\Ab Chatterjee\\anaconda3\\lib\\site-packages\\paramiko\\transport.py:219: CryptographyDeprecationWarning: Blowfish has been deprecated\n",
      "  \"class\": algorithms.Blowfish,\n",
      "C:\\Users\\Ab Chatterjee\\anaconda3\\lib\\site-packages\\nltk\\twitter\\__init__.py:20: UserWarning: The twython library has not been installed. Some functionality from the twitter package will not be available.\n",
      "  warnings.warn(\n",
      "C:\\Users\\Ab Chatterjee\\anaconda3\\lib\\pkgutil.py:93: NumbaPendingDeprecationWarning: \u001b[1mThe 'pycc' module is pending deprecation. Replacement technology is being developed.\n",
      "\n",
      "Pending Deprecation in Numba 0.57.0. For more information please see: https://numba.readthedocs.io/en/stable/reference/deprecation.html#deprecation-of-the-numba-pycc-module\u001b[0m\n",
      "  __import__(info.name)\n",
      "C:\\Users\\Ab Chatterjee\\anaconda3\\lib\\pkgutil.py:93: UserWarning: The numpy.array_api submodule is still experimental. See NEP 47.\n",
      "  __import__(info.name)\n",
      "C:\\Users\\Ab Chatterjee\\anaconda3\\lib\\site-packages\\_distutils_hack\\__init__.py:33: UserWarning: Setuptools is replacing distutils.\n",
      "  warnings.warn(\"Setuptools is replacing distutils.\")\n",
      "C:\\Users\\Ab Chatterjee\\anaconda3\\lib\\pkgutil.py:93: UserWarning:\n",
      "\n",
      "viewer requires Qt\n",
      "\n",
      "No QCoreApplication instance found. Application patches not applied. You have to call load_stylesheet function after instantiation of QApplication to take effect. \n",
      "C:\\Users\\Ab Chatterjee\\anaconda3\\lib\\site-packages\\torch\\distributed\\_shard\\checkpoint\\__init__.py:8: DeprecationWarning:\n",
      "\n",
      "torch.distributed._shard.checkpoint will be deprecated, use torch.distributed.checkpoint instead\n",
      "\n",
      "C:\\Users\\Ab Chatterjee\\anaconda3\\lib\\site-packages\\torch\\distributed\\_sharded_tensor\\__init__.py:8: DeprecationWarning:\n",
      "\n",
      "torch.distributed._sharded_tensor will be deprecated, use torch.distributed._shard.sharded_tensor instead\n",
      "\n",
      "C:\\Users\\Ab Chatterjee\\anaconda3\\lib\\site-packages\\torch\\distributed\\_sharding_spec\\__init__.py:8: DeprecationWarning:\n",
      "\n",
      "torch.distributed._sharding_spec will be deprecated, use torch.distributed._shard.sharding_spec instead\n",
      "\n",
      "NOTE: Redirects are currently not supported in Windows or MacOs.\n",
      "C:\\Users\\Ab Chatterjee\\anaconda3\\lib\\site-packages\\torchvision\\datapoints\\__init__.py:12: UserWarning:\n",
      "\n",
      "The torchvision.datapoints and torchvision.transforms.v2 namespaces are still Beta. While we do not expect major breaking changes, some APIs may still change according to user feedback. Please submit any feedback you may have in this issue: https://github.com/pytorch/vision/issues/6753, and you can also check out https://github.com/pytorch/vision/issues/7319 to learn more about the APIs that we suspect might involve future changes. You can silence this warning by calling torchvision.disable_beta_transforms_warning().\n",
      "\n",
      "C:\\Users\\Ab Chatterjee\\anaconda3\\lib\\site-packages\\torchvision\\transforms\\v2\\__init__.py:54: UserWarning:\n",
      "\n",
      "The torchvision.datapoints and torchvision.transforms.v2 namespaces are still Beta. While we do not expect major breaking changes, some APIs may still change according to user feedback. Please submit any feedback you may have in this issue: https://github.com/pytorch/vision/issues/6753, and you can also check out https://github.com/pytorch/vision/issues/7319 to learn more about the APIs that we suspect might involve future changes. You can silence this warning by calling torchvision.disable_beta_transforms_warning().\n",
      "\n"
     ]
    },
    {
     "name": "stdout",
     "output_type": "stream",
     "text": [
      "IPython             conda_package_streaming mkl                 smtplib\n",
      "OpenSSL             conda_token         mkl_fft             snappy\n",
      "PIL                 conda_verify        mkl_random          sndhdr\n",
      "PyQt5               configparser        mmap                sniffio\n",
      "TBB                 constantly          mmapfile            snowballstemmer\n",
      "__future__          contextlib          mmsystem            socket\n",
      "_abc                contextvars         modulefinder        socketserver\n",
      "_aix_support        contourpy           more_itertools      socks\n",
      "_argon2_cffi_bindings cookiecutter        mpmath              sockshandler\n",
      "_ast                copy                msgpack             sortedcontainers\n",
      "_asyncio            copyreg             msilib              soupsieve\n",
      "_bisect             coremltools         msvcrt              sphinx\n",
      "_black_version      cpuinfo             multidict           spyder\n",
      "_blake2             crypt               multipledispatch    spyder_kernels\n",
      "_bootlocale         cryptography        multiprocess        sqlalchemy\n",
      "_bootsubprocess     cssselect           multiprocessing     sqlite3\n",
      "_bz2                csv                 munkres             sre_compile\n",
      "_cffi_backend       ctypes              mypy_extensions     sre_constants\n",
      "_codecs             curl                mysql               sre_parse\n",
      "_codecs_cn          curses              mysqlx              ssl\n",
      "_codecs_hk          cv2                 nacl                sspi\n",
      "_codecs_iso2022     cwp                 navigator_updater   sspicon\n",
      "_codecs_jp          cycler              nbclassic           stack_data\n",
      "_codecs_kr          cytoolz             nbclient            stat\n",
      "_codecs_tw          daal4py             nbconvert           statistics\n",
      "_collections        dask                nbformat            statsmodels\n",
      "_collections_abc    dataclasses         nest_asyncio        string\n",
      "_compat_pickle      datasets            netbios             stringprep\n",
      "_compression        datashader          netrc               struct\n",
      "_contextvars        datashape           networkx            subprocess\n",
      "_csv                datetime            nltk                sunau\n",
      "_ctypes             dateutil            nntplib             symbol\n",
      "_ctypes_test        dbi                 notebook            sympy\n",
      "_datetime           dbm                 notebook_shim       symtable\n",
      "_decimal            dde                 nt                  sys\n",
      "_distutils_hack     debugpy             ntpath              sysconfig\n",
      "_elementtree        decimal             ntsecuritycon       tables\n",
      "_functools          decorator           nturl2path          tabnanny\n",
      "_hashlib            defusedxml          numba               tabulate\n",
      "_heapq              diff_match_patch    numbergen           tarfile\n",
      "_imp                difflib             numbers             tbb\n",
      "_io                 dill                numexpr             tblib\n",
      "_json               dis                 numpy               telnetlib\n",
      "_locale             distributed         numpydoc            tempfile\n",
      "_lsprof             distutils           odbc                tenacity\n",
      "_lzma               docstring_to_markdown onedal              terminado\n",
      "_markupbase         doctest             opcode              test\n",
      "_md5                docutils            openpyxl            test_pycosat\n",
      "_msi                email               operator            text_unidecode\n",
      "_multibytecodec     encodings           optparse            textdistance\n",
      "_multiprocess       ensurepip           os                  textwrap\n",
      "_multiprocessing    entrypoints         packaging           this\n",
      "_mysql_connector    enum                pandas              threading\n",
      "_mysqlxpb           erfa                pandocfilters       threadpoolctl\n",
      "_nsis               errno               panel               three_merge\n",
      "_opcode             et_xmlfile          param               tifffile\n",
      "_operator           exceptiongroup      paramiko            time\n",
      "_osx_support        executing           parsel              timeit\n",
      "_overlapped         fastjsonschema      parser              timer\n",
      "_peg_parser         faulthandler        parso               tinycss2\n",
      "_pickle             filecmp             partd               tkinter\n",
      "_plotly_future_     fileinput           past                tldextract\n",
      "_plotly_utils       filelock            pathlib             tlz\n",
      "_py_abc             flake8              pathspec            token\n",
      "_pydecimal          flask               patsy               tokenize\n",
      "_pyio               fnmatch             pdb                 tokenizers\n",
      "_pyrsistent_version fontTools           pep8                toml\n",
      "_pytest             formatter           perfmon             tomli\n",
      "_queue              fqdn                pexpect             tomlkit\n",
      "_random             fractions           pickle              toolz\n",
      "_sha1               frozenlist          pickleshare         torch\n",
      "_sha256             fsspec              pickletools         torchgen\n",
      "_sha3               ftplib              pip                 torchmetrics\n",
      "_sha512             functools           pipes               torchvision\n",
      "_signal             functorch           pkg_resources       tornado\n",
      "_sitebuiltins       future              pkginfo             tqdm\n",
      "_socket             gc                  pkgutil             trace\n",
      "_sqlite3            genericpath         platform            traceback\n",
      "_sre                gensim              platformdirs        tracemalloc\n",
      "_ssl                getopt              plistlib            traitlets\n",
      "_stat               getpass             plotly              transformers\n",
      "_statistics         gettext             pluggy              tty\n",
      "_string             glob                ply                 turtle\n",
      "_strptime           glob2               pooch               turtledemo\n",
      "_struct             graphlib            poplib              twisted\n",
      "_symtable           greenlet            posixpath           types\n",
      "_system_path        gzip                poyo                typing\n",
      "_testbuffer         h5py                pprint              typing_extensions\n",
      "_testcapi           hashlib             profile             uc_micro\n",
      "_testconsole        heapdict            prometheus_client   ujson\n",
      "_testimportmultiple heapq               prompt_toolkit      unicodedata\n",
      "_testinternalcapi   hmac                protego             unidecode\n",
      "_testmultiphase     holoviews           pstats              unittest\n",
      "_thread             html                psutil              uri_template\n",
      "_threading_local    http                pty                 urllib\n",
      "_tkinter            huggingface_hub     ptyprocess          urllib3\n",
      "_tracemalloc        hvplot              pure_eval           uu\n",
      "_uuid               hyperlink           pvectorc            uuid\n",
      "_warnings           idlelib             py                  venv\n",
      "_weakref            idna                py_compile          w3lib\n",
      "_weakrefset         imagecodecs         pyarrow             warnings\n",
      "_win32sysloader     imageio             pyasn1              watchdog\n",
      "_winapi             imagesize           pyasn1_modules      wave\n",
      "_winxptheme         imaplib             pyclbr              wcwidth\n",
      "_xxsubinterpreters  imblearn            pycodestyle         weakref\n",
      "_yaml               imghdr              pycosat             webbrowser\n",
      "_zoneinfo           imp                 pycparser           webcolors\n",
      "abc                 importlib           pyct                webencodings\n",
      "adodbapi            importlib_metadata  pycurl              websocket\n",
      "afxres              importlib_resources pydispatch          werkzeug\n",
      "aifc                incremental         pydoc               whatthepatch\n",
      "aiobotocore         inflection          pydoc_data          wheel\n",
      "aiofiles            iniconfig           pydocstyle          widgetsnbextension\n",
      "aiohttp             inspect             pyexpat             win2kras\n",
      "aioitertools        intake              pyflakes            win32api\n",
      "aiosignal           intervaltree        pygments            win32clipboard\n",
      "aiosqlite           io                  pylab               win32com\n",
      "alabaster           ipaddress           pylint              win32con\n",
      "anaconda_navigator  ipykernel           pylint_venv         win32console\n",
      "antigravity         ipykernel_launcher  pyls_spyder         win32cred\n",
      "anyio               ipython_genutils    pylsp               win32crypt\n",
      "appdirs             ipywidgets          pylsp_black         win32cryptcon\n",
      "argon2              isapi               pylsp_jsonrpc       win32ctypes\n",
      "argparse            isoduration         pymysql             win32event\n",
      "array               isort               pyodbc              win32evtlog\n",
      "arrow               isympy              pyparsing           win32evtlogutil\n",
      "ast                 itemadapter         pyrsistent          win32file\n",
      "astroid             itemloaders         pytesseract         win32gui\n",
      "astropy             itertools           pytest              win32gui_struct\n",
      "asttokens           itsdangerous        pythoncom           win32help\n",
      "async_timeout       jedi                pythonjsonlogger    win32inet\n",
      "asynchat            jellyfish           pytoolconfig        win32inetcon\n",
      "asyncio             jinja2              pytorch_lightning   win32job\n",
      "asyncore            jinja2_time         pytz                win32lz\n",
      "atexit              jmespath            pyviz_comms         win32net\n",
      "atomicwrites        joblib              pywin               win32netcon\n",
      "attr                json                pywin32_bootstrap   win32pdh\n",
      "attrs               json5               pywin32_testutil    win32pdhquery\n",
      "audioop             jsonpointer         pywintypes          win32pdhutil\n",
      "automat             jsonschema          pywt                win32pipe\n",
      "autopep8            jupyter             qdarkstyle          win32print\n",
      "babel               jupyter_client      qstylizer           win32process\n",
      "backcall            jupyter_console     qtawesome           win32profile\n",
      "backports           jupyter_core        qtconsole           win32ras\n",
      "base64              jupyter_events      qtpy                win32rcparser\n",
      "bcrypt              jupyter_server      queue               win32security\n",
      "bdb                 jupyter_server_fileid queuelib            win32service\n",
      "bidi                jupyter_server_terminals quopri              win32serviceutil\n",
      "binaryornot         jupyter_server_ydoc random              win32timezone\n",
      "binascii            jupyter_ydoc        rasutil             win32trace\n",
      "binhex              jupyterlab          re                  win32traceutil\n",
      "binstar_client      jupyterlab_plotly   regcheck            win32transaction\n",
      "bisect              jupyterlab_pygments regex               win32ts\n",
      "black               jupyterlab_server   regutil             win32ui\n",
      "blackd              jupyterlab_widgets  repo_cli            win32uiole\n",
      "bleach              jupyterthemes       reprlib             win32verstamp\n",
      "blib2to3            jwt                 requests            win32wnet\n",
      "bokeh               keyring             requests_file       win_inet_pton\n",
      "botocore            keyword             requests_toolbelt   winerror\n",
      "bottleneck          kiwisolver          responses           winioctlcon\n",
      "brotli              kraken              rfc3339_validator   winnt\n",
      "bs4                 lazy_object_proxy   rfc3986_validator   winperf\n",
      "builtins            lesscpy             rich                winpty\n",
      "bz2                 lib2to3             rlcompleter         winreg\n",
      "cProfile            libarchive          rope                winsound\n",
      "calendar            libfuturize         rtree               winxpgui\n",
      "certifi             libpasteurize       ruamel_yaml         winxptheme\n",
      "cffi                lief                runpy               wrapt\n",
      "cgi                 lightning_fabric    s3fs                wsgiref\n",
      "cgitb               lightning_utilities sacremoses          xarray\n",
      "chardet             linecache           sched               xdrlib\n",
      "charset_normalizer  linkify_it          scipy               xlwings\n",
      "chunk               llvmlite            scrapy              xml\n",
      "click               lmdb                seaborn             xmlrpc\n",
      "cloudpickle         locale              secrets             xxhash\n",
      "clyent              locket              select              xxsubtype\n",
      "cmath               logging             selectors           xyzservices\n",
      "cmd                 lxml                send2trash          y_py\n",
      "code                lz4                 service_identity    yaml\n",
      "codecs              lzma                servicemanager      yapf\n",
      "codeop              mailbox             setuptools          yapftests\n",
      "collections         mailcap             shapely             yarl\n",
      "colorama            markdown            shelve              ypy_websocket\n",
      "colorcet            markdown_it         shlex               zict\n",
      "colorsys            markupsafe          shutil              zipapp\n",
      "comm                marshal             signal              zipfile\n",
      "commctrl            math                sipbuild            zipimport\n",
      "compileall          matplotlib          site                zipp\n",
      "concurrent          matplotlib_inline   six                 zlib\n",
      "conda               mccabe              skimage             zmq\n",
      "conda_build         mdit_py_plugins     sklearn             zoneinfo\n",
      "conda_content_trust mdurl               sklearnex           zope\n",
      "conda_env           menuinst            slugify             zstandard\n",
      "conda_index         mimetypes           smart_open          ~umpy\n",
      "conda_package_handling mistune             smtpd               \n",
      "\n",
      "Enter any module name to get more help.  Or, type \"modules spam\" to search\n",
      "for modules whose name or summary contain the string \"spam\".\n",
      "\n"
     ]
    }
   ],
   "source": [
    "help('modules')"
   ]
  },
  {
   "cell_type": "markdown",
   "id": "80398463",
   "metadata": {},
   "source": [
    "# Loops in Python\n",
    "\n",
    "- Need for loops\n",
    "- While Loop\n",
    "- For Loop"
   ]
  },
  {
   "cell_type": "code",
   "execution_count": null,
   "id": "135957f5",
   "metadata": {},
   "outputs": [],
   "source": [
    "# While loop example -> program to print the table\n",
    "# Program -> Sum of all digits of a given number\n",
    "# Program -> keep accepting numbers from users till he/she enters a 0 and then find the avg"
   ]
  },
  {
   "cell_type": "code",
   "execution_count": 15,
   "id": "fa02ea1a",
   "metadata": {},
   "outputs": [
    {
     "name": "stdout",
     "output_type": "stream",
     "text": [
      "Enter number: 10\n",
      "10 x 1 = 10\n",
      "10 x 2 = 20\n",
      "10 x 3 = 30\n",
      "10 x 4 = 40\n",
      "10 x 5 = 50\n",
      "10 x 6 = 60\n",
      "10 x 7 = 70\n",
      "10 x 8 = 80\n",
      "10 x 9 = 90\n",
      "10 x 10 = 100\n"
     ]
    }
   ],
   "source": [
    "# will take user input and print table\n",
    "\n",
    "i = 1\n",
    "num = int(input('Enter number: '))\n",
    "while i <= 10:\n",
    "    print(f'{num} x {i} = {num * i}')\n",
    "    i += 1"
   ]
  },
  {
   "cell_type": "code",
   "execution_count": 16,
   "id": "46c0be09",
   "metadata": {},
   "outputs": [
    {
     "name": "stdout",
     "output_type": "stream",
     "text": [
      "1\n",
      "2\n",
      "limit crossed\n"
     ]
    }
   ],
   "source": [
    "# while loops with else\n",
    "\n",
    "x = 1\n",
    "\n",
    "while x < 3:\n",
    "    print(x)\n",
    "    x += 1\n",
    "else:\n",
    "    print('limit crossed')   # once loops breaks else logic executed"
   ]
  },
  {
   "cell_type": "code",
   "execution_count": 1,
   "id": "a7f024f6",
   "metadata": {},
   "outputs": [
    {
     "name": "stdout",
     "output_type": "stream",
     "text": [
      "Enter num: 45\n",
      "Guess lower\n",
      "Enter num: 25\n",
      "Guess lower\n",
      "Enter num: 5\n",
      "Guess higher\n",
      "Enter num: 15\n",
      "Guess lower\n",
      "Enter num: 12\n",
      "Guess higher\n",
      "Enter num: 13\n",
      "You Guessed it right: it\"s 13 \n",
      "You took 6 chances\n"
     ]
    }
   ],
   "source": [
    "# Guessing game\n",
    "\n",
    "import random\n",
    "\n",
    "# generate a random integer between 1 and 100\n",
    "jackpot = random.randint(1,100)\n",
    "turn = 1\n",
    "guess = int(input('Enter num: '))\n",
    "\n",
    "while guess != jackpot:\n",
    "    \n",
    "    if guess > jackpot:\n",
    "        print('Guess lower')\n",
    "    \n",
    "    else:\n",
    "        print('Guess higher')\n",
    "    \n",
    "    guess = int(input('Enter num: '))\n",
    "    turn += 1\n",
    "\n",
    "else:\n",
    "    print(f'You Guessed it right: it\"s {jackpot} ')\n",
    "    print(f'You took {turn} chances')"
   ]
  },
  {
   "cell_type": "code",
   "execution_count": 5,
   "id": "02a3e47c",
   "metadata": {},
   "outputs": [
    {
     "name": "stdout",
     "output_type": "stream",
     "text": [
      "1\n",
      "2\n",
      "3\n",
      "4\n",
      "5\n",
      "6\n",
      "7\n",
      "8\n",
      "9\n",
      "10\n"
     ]
    }
   ],
   "source": [
    "# For loop demo\n",
    "\n",
    "for i in range(1,11):\n",
    "    print(i)"
   ]
  },
  {
   "cell_type": "code",
   "execution_count": 10,
   "id": "b473eafb",
   "metadata": {},
   "outputs": [
    {
     "name": "stdout",
     "output_type": "stream",
     "text": [
      "1\n",
      "3\n",
      "5\n",
      "7\n",
      "9\n"
     ]
    }
   ],
   "source": [
    "for i in range(1,11,2):         # 2 is step size\n",
    "    print(i)"
   ]
  },
  {
   "cell_type": "code",
   "execution_count": 3,
   "id": "dc465ee5",
   "metadata": {},
   "outputs": [
    {
     "name": "stdout",
     "output_type": "stream",
     "text": [
      "10\n",
      "9\n",
      "8\n",
      "7\n",
      "6\n",
      "5\n",
      "4\n",
      "3\n",
      "2\n",
      "1\n"
     ]
    }
   ],
   "source": [
    "for i in range(10,0,-1):         # going backward\n",
    "    print(i)"
   ]
  },
  {
   "cell_type": "code",
   "execution_count": 4,
   "id": "3dba3817",
   "metadata": {},
   "outputs": [
    {
     "name": "stdout",
     "output_type": "stream",
     "text": [
      "D\n",
      "e\n",
      "l\n",
      "h\n",
      "i\n"
     ]
    }
   ],
   "source": [
    "for i in 'Delhi':\n",
    "    print(i)"
   ]
  },
  {
   "cell_type": "code",
   "execution_count": 5,
   "id": "7b69299a",
   "metadata": {},
   "outputs": [
    {
     "name": "stdout",
     "output_type": "stream",
     "text": [
      "1\n",
      "2\n",
      "3\n",
      "4\n",
      "5\n"
     ]
    }
   ],
   "source": [
    "for i in [1,2,3,4,5]:          # itreate on list\n",
    "    print(i)"
   ]
  },
  {
   "cell_type": "code",
   "execution_count": 9,
   "id": "0076753f",
   "metadata": {},
   "outputs": [
    {
     "name": "stdout",
     "output_type": "stream",
     "text": [
      "1\n",
      "2\n",
      "3\n",
      "4\n",
      "5\n"
     ]
    }
   ],
   "source": [
    "for i in {1,2,3,4,5}:\n",
    "    print(i)"
   ]
  },
  {
   "cell_type": "code",
   "execution_count": null,
   "id": "53f9b2d0",
   "metadata": {},
   "outputs": [],
   "source": [
    "# For loop examples"
   ]
  },
  {
   "cell_type": "markdown",
   "id": "8959ad41",
   "metadata": {},
   "source": [
    "### Program - The current population of a town is 10000. The population of the town is increasing at the rate of 10% per year. You have to write a program to find out the population at the end of each of the last 10 years."
   ]
  },
  {
   "cell_type": "code",
   "execution_count": 2,
   "id": "e90dde0f",
   "metadata": {},
   "outputs": [
    {
     "name": "stdout",
     "output_type": "stream",
     "text": [
      "10 10000\n",
      "9 9090.90909090909\n",
      "8 8264.462809917353\n",
      "7 7513.148009015775\n",
      "6 6830.134553650703\n",
      "5 6209.213230591548\n",
      "4 5644.739300537771\n",
      "3 5131.5811823070635\n",
      "2 4665.07380209733\n",
      "1 4240.976183724845\n"
     ]
    }
   ],
   "source": [
    "curr_pop = 10000\n",
    "\n",
    "for i in range(10,0,-1):\n",
    "    print(i,curr_pop)\n",
    "    curr_pop = curr_pop/1.1"
   ]
  },
  {
   "cell_type": "markdown",
   "id": "f16d1e8f",
   "metadata": {},
   "source": [
    "### Sequence sum\n",
    "\n",
    "1/1! + 2/2! + 3/3! + ..."
   ]
  },
  {
   "cell_type": "code",
   "execution_count": 6,
   "id": "a205200f",
   "metadata": {},
   "outputs": [
    {
     "name": "stdout",
     "output_type": "stream",
     "text": [
      "Enter number: 5\n",
      "2.708333333333333\n"
     ]
    }
   ],
   "source": [
    "# Code here\n",
    "\n",
    "n = int(input('Enter number: '))\n",
    "\n",
    "result = 0\n",
    "fact = 1\n",
    "for i in range(1,n+1):\n",
    "    fact = fact * i\n",
    "    result += i/fact\n",
    "\n",
    "print(result)"
   ]
  },
  {
   "cell_type": "markdown",
   "id": "5f269c0e",
   "metadata": {},
   "source": [
    "# Nested Loops"
   ]
  },
  {
   "cell_type": "code",
   "execution_count": 7,
   "id": "067e6e5d",
   "metadata": {},
   "outputs": [
    {
     "name": "stdout",
     "output_type": "stream",
     "text": [
      "1 1\n",
      "1 2\n",
      "1 3\n",
      "1 4\n",
      "2 1\n",
      "2 2\n",
      "2 3\n",
      "2 4\n",
      "3 1\n",
      "3 2\n",
      "3 3\n",
      "3 4\n",
      "4 1\n",
      "4 2\n",
      "4 3\n",
      "4 4\n"
     ]
    }
   ],
   "source": [
    "# Examples -> unique pairs\n",
    "\n",
    "for i in range(1,5):\n",
    "    for j in range(1,5):\n",
    "        print(i,j)"
   ]
  },
  {
   "cell_type": "markdown",
   "id": "16c8e4f5",
   "metadata": {},
   "source": [
    "# Pattern 1\n",
    "\n",
    "\n",
    "*<br>\n",
    "**<br>\n",
    "***<br>\n"
   ]
  },
  {
   "cell_type": "code",
   "execution_count": 15,
   "id": "7a26fdac",
   "metadata": {},
   "outputs": [
    {
     "name": "stdout",
     "output_type": "stream",
     "text": [
      "enter number of rows: 5\n",
      "*\n",
      "**\n",
      "***\n",
      "****\n",
      "*****\n"
     ]
    }
   ],
   "source": [
    "# code here\n",
    "\n",
    "rows = int(input('enter number of rows: '))\n",
    "\n",
    "for i in range(1,rows+1):\n",
    "    print(i * '*')"
   ]
  },
  {
   "cell_type": "code",
   "execution_count": 21,
   "id": "a05444c8",
   "metadata": {},
   "outputs": [
    {
     "name": "stdout",
     "output_type": "stream",
     "text": [
      "enter number of rows: 5\n",
      "*\n",
      "**\n",
      "***\n",
      "****\n",
      "*****\n"
     ]
    }
   ],
   "source": [
    "# alternative (using nested loop)\n",
    "\n",
    "rows = int(input('enter number of rows: '))\n",
    "\n",
    "for i in range(1,rows+1):\n",
    "    for j in range(1,i+1):\n",
    "        print('*', end='')\n",
    "    print()"
   ]
  },
  {
   "cell_type": "markdown",
   "id": "68060846",
   "metadata": {},
   "source": [
    "# Pattern 2\n",
    "\n",
    "1<br>\n",
    "121<br>\n",
    "12321<br>\n",
    "1234321<br>"
   ]
  },
  {
   "cell_type": "code",
   "execution_count": 47,
   "id": "a6b5162b",
   "metadata": {},
   "outputs": [
    {
     "name": "stdout",
     "output_type": "stream",
     "text": [
      "enter number of rows: 4\n",
      "1\n",
      "121\n",
      "12321\n",
      "1234321\n"
     ]
    }
   ],
   "source": [
    "# code here\n",
    "\n",
    "rows = int(input('enter number of rows: '))\n",
    "\n",
    "for i in range(1,rows+1):\n",
    "    for j in range(1,i+1):\n",
    "        print(j,end='')\n",
    "    for k in range(i-1,0,-1):\n",
    "        print(k,end='')\n",
    "    \n",
    "    print()"
   ]
  },
  {
   "cell_type": "markdown",
   "id": "68693ba4",
   "metadata": {},
   "source": [
    "# Loop Control Statement\n",
    "\n",
    "- Break\n",
    "- Continue\n",
    "- Pass"
   ]
  },
  {
   "cell_type": "code",
   "execution_count": 10,
   "id": "f28b7936",
   "metadata": {},
   "outputs": [
    {
     "name": "stdout",
     "output_type": "stream",
     "text": [
      "1\n",
      "2\n",
      "3\n",
      "4\n"
     ]
    }
   ],
   "source": [
    "for i in range(1,10):\n",
    "    if i == 5:\n",
    "        break \n",
    "    print(i)        # one i becomes 5 break statement breaks the execution of for loop"
   ]
  },
  {
   "cell_type": "code",
   "execution_count": 16,
   "id": "02e034a5",
   "metadata": {},
   "outputs": [
    {
     "name": "stdout",
     "output_type": "stream",
     "text": [
      "enter lower range: 10\n",
      "enter upper range: 100\n",
      "11\n",
      "13\n",
      "17\n",
      "19\n",
      "23\n",
      "29\n",
      "31\n",
      "37\n",
      "41\n",
      "43\n",
      "47\n",
      "53\n",
      "59\n",
      "61\n",
      "67\n",
      "71\n",
      "73\n",
      "79\n",
      "83\n",
      "89\n",
      "97\n"
     ]
    }
   ],
   "source": [
    "# will get range from user we have to generate prime numbers out of it\n",
    "\n",
    "lower = int(input('enter lower range: '))\n",
    "upper = int(input('enter upper range: '))\n",
    "\n",
    "\n",
    "for i in range(lower,upper+1):\n",
    "    for j in range(2,i):\n",
    "        if i % j ==0:\n",
    "           break\n",
    "    else:\n",
    "        print(i)"
   ]
  },
  {
   "cell_type": "code",
   "execution_count": 17,
   "id": "a4011b25",
   "metadata": {},
   "outputs": [
    {
     "name": "stdout",
     "output_type": "stream",
     "text": [
      "1\n",
      "2\n",
      "3\n",
      "4\n",
      "6\n",
      "7\n",
      "8\n",
      "9\n"
     ]
    }
   ],
   "source": [
    "# Continue\n",
    "for i in range(1,10):\n",
    "    if i == 5:\n",
    "        continue\n",
    "    print(i)         # it's skip the number when we reached 5"
   ]
  },
  {
   "cell_type": "code",
   "execution_count": 18,
   "id": "2418d66c",
   "metadata": {},
   "outputs": [],
   "source": [
    "for i in range(1,10):\n",
    "    pass                          # won't through error\n",
    "  "
   ]
  }
 ],
 "metadata": {
  "kernelspec": {
   "display_name": "Python 3 (ipykernel)",
   "language": "python",
   "name": "python3"
  },
  "language_info": {
   "codemirror_mode": {
    "name": "ipython",
    "version": 3
   },
   "file_extension": ".py",
   "mimetype": "text/x-python",
   "name": "python",
   "nbconvert_exporter": "python",
   "pygments_lexer": "ipython3",
   "version": "3.9.16"
  }
 },
 "nbformat": 4,
 "nbformat_minor": 5
}
